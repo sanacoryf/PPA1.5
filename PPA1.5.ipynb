{
 "cells": [
  {
   "cell_type": "markdown",
   "metadata": {},
   "source": [
    "Last time we saw a way to answer the follwing puzzle\n",
    "\n",
    "What's a 9 letter word that starts with P, ends with P, and has a third P somewhere inside it?\n",
    "\n",
    "Now we introduce a powerful library, RegEx, to parse text that coould help us with the next puzzle.\n",
    "\n",
    "\n",
    "riddle from @HaggardHawks, HH brainteaser time with @bbcnewcastle\n",
    " @LisaShawRadio tweeted on 7:01 AM · Jan 21, 2021\n",
    " \n",
    "Some of todays lesson is from <b>Mastering Regular Expressions</b> by Jeffrey E. F. Friedl and from  <b>A Whirlwind Tour of Python </b> by Jake VaderPlas (available free here https://jakevdp.github.io/WhirlwindTourOfPython/).\n"
   ]
  },
  {
   "cell_type": "code",
   "execution_count": null,
   "metadata": {},
   "outputs": [],
   "source": []
  },
  {
   "cell_type": "markdown",
   "metadata": {},
   "source": [
    "## But first what we did last meeting"
   ]
  },
  {
   "cell_type": "code",
   "execution_count": 62,
   "metadata": {},
   "outputs": [],
   "source": [
    "# First we need a dictionary\n",
    "\n",
    "import urllib.request  # the lib that handles the url stuff\n",
    "\n",
    "target_url = \"http://www.sanacory.net/analytics/LIDA/21.02.18/words.txt\"\n",
    "aDict = [line.decode('utf-8') for line in urllib.request.urlopen(target_url)]"
   ]
  },
  {
   "cell_type": "code",
   "execution_count": 63,
   "metadata": {},
   "outputs": [],
   "source": [
    "# Clean that dictionary a little\n",
    "aDict = [word.lower().strip() for word in aDict]"
   ]
  },
  {
   "cell_type": "code",
   "execution_count": null,
   "metadata": {},
   "outputs": [],
   "source": []
  },
  {
   "cell_type": "code",
   "execution_count": 5,
   "metadata": {},
   "outputs": [],
   "source": [
    "def PPP(word):\n",
    "    if len(word) != 9:\n",
    "        return False\n",
    "    if (word[0] == 'p' and word[-1] == 'p' and 'p' in word[1:8]):\n",
    "        return True\n",
    "    else:\n",
    "        return False"
   ]
  },
  {
   "cell_type": "code",
   "execution_count": 6,
   "metadata": {},
   "outputs": [
    {
     "name": "stdout",
     "output_type": "stream",
     "text": [
      "paperclip\n",
      "purplelip\n"
     ]
    }
   ],
   "source": [
    "for word in aDict:\n",
    "    if PPP(word):\n",
    "        print(word)\n"
   ]
  },
  {
   "cell_type": "code",
   "execution_count": null,
   "metadata": {},
   "outputs": [],
   "source": []
  },
  {
   "cell_type": "markdown",
   "metadata": {},
   "source": [
    "## Now to introduce regular expressions"
   ]
  },
  {
   "cell_type": "code",
   "execution_count": 24,
   "metadata": {},
   "outputs": [],
   "source": [
    "import re"
   ]
  },
  {
   "cell_type": "code",
   "execution_count": 10,
   "metadata": {},
   "outputs": [],
   "source": [
    "# define a regular expression"
   ]
  },
  {
   "cell_type": "code",
   "execution_count": 25,
   "metadata": {},
   "outputs": [],
   "source": [
    "email = re.compile('\\w+@\\w+\\.com')"
   ]
  },
  {
   "cell_type": "code",
   "execution_count": 22,
   "metadata": {},
   "outputs": [],
   "source": [
    "someText = \"Hello I would like you to meet Bailey, bailey@aCompany.com, and\"\\\n",
    "    \" Alice, Alice@bSchool.edu, and Tom,\"\\\n",
    "    \" StudMuffin@GeeMail.com\" #Hint do't use unprofessional emails"
   ]
  },
  {
   "cell_type": "code",
   "execution_count": 23,
   "metadata": {},
   "outputs": [
    {
     "data": {
      "text/plain": [
       "'Hello I would like you to meet Bailey, bailey@aCompany.com, and Alice, Alice@bSchool.edu, and Tom, StudMuffin@GeeMail.com'"
      ]
     },
     "execution_count": 23,
     "metadata": {},
     "output_type": "execute_result"
    }
   ],
   "source": [
    "someText"
   ]
  },
  {
   "cell_type": "code",
   "execution_count": 26,
   "metadata": {},
   "outputs": [
    {
     "data": {
      "text/plain": [
       "['bailey@aCompany.com', 'StudMuffin@GeeMail.com']"
      ]
     },
     "execution_count": 26,
     "metadata": {},
     "output_type": "execute_result"
    }
   ],
   "source": [
    "email.findall(someText)"
   ]
  },
  {
   "cell_type": "code",
   "execution_count": null,
   "metadata": {},
   "outputs": [],
   "source": [
    "# Magic!  It  found our emails, what did it do?\n",
    "# What did it not do?"
   ]
  },
  {
   "cell_type": "code",
   "execution_count": null,
   "metadata": {},
   "outputs": [],
   "source": []
  },
  {
   "cell_type": "code",
   "execution_count": 27,
   "metadata": {},
   "outputs": [],
   "source": [
    "email = re.compile('\\w+@\\w+\\.[a-z]{3}')"
   ]
  },
  {
   "cell_type": "code",
   "execution_count": 32,
   "metadata": {},
   "outputs": [
    {
     "data": {
      "text/plain": [
       "['bailey@aCompany.com', 'Alice@bSchool.edu', 'Stud.Muffin@GeeMail.com']"
      ]
     },
     "execution_count": 32,
     "metadata": {},
     "output_type": "execute_result"
    }
   ],
   "source": [
    "email.findall(someText)"
   ]
  },
  {
   "cell_type": "code",
   "execution_count": 29,
   "metadata": {},
   "outputs": [],
   "source": [
    "someText = \"Hello I would like you to meet Bailey, bailey@aCompany.com, and\"\\\n",
    "    \" Alice, Alice@bSchool.edu, and Tom,\"\\\n",
    "    \" Stud.Muffin@GeeMail.com\" #Hint do't use unprofessional emails"
   ]
  },
  {
   "cell_type": "markdown",
   "metadata": {},
   "source": [
    " \\w Match any alphanumeric char\n",
    " \n",
    " \\d Match any digit"
   ]
  },
  {
   "cell_type": "code",
   "execution_count": 31,
   "metadata": {},
   "outputs": [],
   "source": [
    "email = re.compile('[\\w.]+@\\w+\\.[a-z]{3}')"
   ]
  },
  {
   "cell_type": "code",
   "execution_count": null,
   "metadata": {},
   "outputs": [],
   "source": []
  },
  {
   "cell_type": "code",
   "execution_count": null,
   "metadata": {},
   "outputs": [],
   "source": [
    "# For you\n",
    "# given the text below find the phone number"
   ]
  },
  {
   "cell_type": "code",
   "execution_count": 21,
   "metadata": {},
   "outputs": [],
   "source": [
    "MoreText = \"Shopping T-Mobile \\\n",
    "For personal: 1-800-T-MOBILE  \\\n",
    "For business: 1-844-428-9675  \\\n",
    "General Customer Care & Technical Support  \\\n",
    "From the T-Mobile app, on a T-Mobile phone  \\\n",
    "From your T-Mobile phone: 611  \\\n",
    "Call: 1-800-937-8997  \\\n",
    "If you are calling about a technical issue with your T-Mobile service, please call from a different phone so that we can troubleshoot with you.\\\n",
    "International Callers \\\n",
    "Call: 1-505-998-3793 \\\n",
    "\\\n",
    "All calls made to this number from a T-Mobile handset are free from roaming, airtime, or long distance charges. Calls made to this number from landlines and non-T-Mobile phones will incur international long distance charges as well as any other additional charges that may apply.\\\n",
    "\\\n",
    "Customer Care representatives are available daily from 4 a.m. to Midnight PST\\\n",
    "Call Us - TTY \\\n",
    "TTY service is available for the hearing and speech impaired. \\\n",
    "\\\n",
    "Call us via TTY toll free at 1-877-296-1018 \\\n",
    "\\\n",
    "TTY hours are from 4:00 a.m. - Midnight PST, daily.\""
   ]
  },
  {
   "cell_type": "code",
   "execution_count": 22,
   "metadata": {},
   "outputs": [
    {
     "data": {
      "text/plain": [
       "'Shopping T-Mobile For personal: 1-800-T-MOBILE  For business: 1-844-428-9675  General Customer Care & Technical Support  From the T-Mobile app, on a T-Mobile phone  From your T-Mobile phone: 611  Call: 1-800-937-8997  If you are calling about a technical issue with your T-Mobile service, please call from a different phone so that we can troubleshoot with you.International Callers Call: 1-505-998-3793 All calls made to this number from a T-Mobile handset are free from roaming, airtime, or long distance charges. Calls made to this number from landlines and non-T-Mobile phones will incur international long distance charges as well as any other additional charges that may apply.Customer Care representatives are available daily from 4 a.m. to Midnight PSTCall Us - TTY TTY service is available for the hearing and speech impaired. Call us via TTY toll free at 1-877-296-1018 TTY hours are from 4:00 a.m. - Midnight PST, daily.'"
      ]
     },
     "execution_count": 22,
     "metadata": {},
     "output_type": "execute_result"
    }
   ],
   "source": [
    "MoreText"
   ]
  },
  {
   "cell_type": "code",
   "execution_count": 28,
   "metadata": {},
   "outputs": [],
   "source": [
    "# your code here\n",
    "\n",
    "phone = re.compile('1-[\\d]{3}-[\\d]{3}-[\\d]{4}')"
   ]
  },
  {
   "cell_type": "code",
   "execution_count": 29,
   "metadata": {},
   "outputs": [
    {
     "data": {
      "text/plain": [
       "['1-844-428-9675', '1-800-937-8997', '1-505-998-3793', '1-877-296-1018']"
      ]
     },
     "execution_count": 29,
     "metadata": {},
     "output_type": "execute_result"
    }
   ],
   "source": [
    "phone.findall(MoreText)"
   ]
  },
  {
   "cell_type": "code",
   "execution_count": null,
   "metadata": {},
   "outputs": [],
   "source": []
  },
  {
   "cell_type": "code",
   "execution_count": 39,
   "metadata": {},
   "outputs": [],
   "source": [
    "aFile = open(\"sample.txt\", \"r\")\n",
    "fileText = aFile.read()\n",
    "aFile.close()\n"
   ]
  },
  {
   "cell_type": "code",
   "execution_count": 40,
   "metadata": {},
   "outputs": [
    {
     "data": {
      "text/plain": [
       "'\\n\\n\\n\\n\\n\\n\\n\\n\\n\\n\\nLorem ipsum dolor sit amet, consectetur adipiscing elit. Vestibulum eu arcu at tellus rut'"
      ]
     },
     "execution_count": 40,
     "metadata": {},
     "output_type": "execute_result"
    }
   ],
   "source": [
    "fileText[:100]"
   ]
  },
  {
   "cell_type": "code",
   "execution_count": null,
   "metadata": {},
   "outputs": [],
   "source": []
  },
  {
   "cell_type": "code",
   "execution_count": null,
   "metadata": {},
   "outputs": [],
   "source": []
  },
  {
   "cell_type": "markdown",
   "metadata": {},
   "source": [
    "<table>\n",
    "<tr><td>\n",
    "Character</td><td > Description</td>\n",
    "</tr><tr><td>\n",
    "    \\d </td><td>Match any digit</td>\n",
    "</tr><tr><td>\n",
    "    \\D </td><td> Match any non-digit</td>\n",
    "</tr><tr><td>\n",
    "    \\s </td><td> Match any whitespace</td>\n",
    "</tr><tr><td>\n",
    "    \\S </td><td> Match any non-whitespace</td>\n",
    "</tr><tr><td>\n",
    "    \\w </td><td> Match any alphanumeric char</td>\n",
    "</tr><tr><td>\n",
    "    \\W </td><td>Match any non-alphanumeric char</td>\n",
    "</td></tr>\n",
    "</table>"
   ]
  },
  {
   "cell_type": "code",
   "execution_count": null,
   "metadata": {},
   "outputs": [],
   "source": []
  },
  {
   "cell_type": "markdown",
   "metadata": {},
   "source": [
    "<table>\n",
    "<tr><td>Character</td><td > Description</td> <td >Example</td> \n",
    "\n",
    "</tr><tr><td> ? </td> <td >Match zero or one repetitions of preceding\n",
    "</td> <td > ab? matches a or ab </td> \n",
    "\n",
    "</tr><tr><td> * </td> <td >Match zero or more repetitions of preceding \n",
    "</td> <td >  ab*  matches a , ab , abb , abbb ...</td> \n",
    "\n",
    "</tr><tr><td> + </td> <td >match one or more repetitions of preceding\n",
    "</td> <td > ab+ matches ab , abb , abbb ... but\n",
    "not a </td> \n",
    "\n",
    "</tr><tr><td> {n} </td> <td >Match n repetitions of preceding\n",
    "</td> <td > ab{2} matches abb </td> \n",
    "\n",
    "</tr><tr><td> {m,n} </td> <td >Match between m and n repetitions of\n",
    "preceding\n",
    "</td> <td >   ab{2,3} matches abb or abbb </td> \n",
    "\n",
    "</tr></table>\n"
   ]
  },
  {
   "cell_type": "code",
   "execution_count": null,
   "metadata": {},
   "outputs": [],
   "source": []
  },
  {
   "cell_type": "markdown",
   "metadata": {},
   "source": [
    "### string vs raw string"
   ]
  },
  {
   "cell_type": "code",
   "execution_count": 36,
   "metadata": {},
   "outputs": [
    {
     "name": "stdout",
     "output_type": "stream",
     "text": [
      "a\tb\tc\td\n"
     ]
    }
   ],
   "source": [
    "a = \"a\\tb\\tc\\td\" #stored as a raw string\n",
    "print(a)"
   ]
  },
  {
   "cell_type": "code",
   "execution_count": 37,
   "metadata": {},
   "outputs": [
    {
     "name": "stdout",
     "output_type": "stream",
     "text": [
      "a\\tb\\tc\\td\n"
     ]
    }
   ],
   "source": [
    "a = r\"a\\tb\\tc\\td\" #stored as a raw string\n",
    "print(a)"
   ]
  },
  {
   "cell_type": "code",
   "execution_count": 44,
   "metadata": {},
   "outputs": [],
   "source": [
    "# Let's use raw stringds from now on so my answers to the above are\n",
    "\n",
    "email = re.compile(r'[\\w.]+@\\w+\\.[a-z]{3}')\n",
    "phone = re.compile(r'[-(.\\s][\\d]{3}[-).][\\d]{3}[-).][\\d]{4}')\n"
   ]
  },
  {
   "cell_type": "code",
   "execution_count": null,
   "metadata": {},
   "outputs": [],
   "source": []
  },
  {
   "cell_type": "markdown",
   "metadata": {},
   "source": [
    "## Let's redo our old puzzle"
   ]
  },
  {
   "cell_type": "code",
   "execution_count": 35,
   "metadata": {},
   "outputs": [],
   "source": [
    "goodWords = ['purplelip','pupilship','paperclip']\n",
    "badWords = ['penelope','plantwerp','vivacious']"
   ]
  },
  {
   "cell_type": "code",
   "execution_count": 57,
   "metadata": {},
   "outputs": [],
   "source": [
    "pp = re.compile(r'[p]\\w{7}[p]') \n",
    "\n",
    "\n"
   ]
  },
  {
   "cell_type": "code",
   "execution_count": 60,
   "metadata": {},
   "outputs": [
    {
     "data": {
      "text/plain": [
       "['paperclip']"
      ]
     },
     "execution_count": 60,
     "metadata": {},
     "output_type": "execute_result"
    }
   ],
   "source": [
    "pp.findall(goodWords[2])"
   ]
  },
  {
   "cell_type": "code",
   "execution_count": 61,
   "metadata": {},
   "outputs": [
    {
     "data": {
      "text/plain": [
       "[]"
      ]
     },
     "execution_count": 61,
     "metadata": {},
     "output_type": "execute_result"
    }
   ],
   "source": [
    "pp.findall(badWords[2])"
   ]
  },
  {
   "cell_type": "code",
   "execution_count": 65,
   "metadata": {},
   "outputs": [],
   "source": [
    "DictText = \" \".join(aDict)"
   ]
  },
  {
   "cell_type": "code",
   "execution_count": 66,
   "metadata": {},
   "outputs": [
    {
     "data": {
      "text/plain": [
       "['pliceship',\n",
       " 'pyrophosp',\n",
       " 'photograp',\n",
       " 'phitomorp',\n",
       " 'phidiscop',\n",
       " 'phidiscop',\n",
       " 'phodiplop',\n",
       " 'phalotrop',\n",
       " 'pogeograp',\n",
       " 'pogeograp',\n",
       " 'pogeograp',\n",
       " 'pogeograp',\n",
       " 'pornograp',\n",
       " 'pornograp',\n",
       " 'phenoscop',\n",
       " 'phototrop',\n",
       " 'phototrop',\n",
       " 'pogeotrop',\n",
       " 'pogeotrop',\n",
       " 'pogeotrop',\n",
       " 'polloship',\n",
       " 'pifership',\n",
       " 'photograp',\n",
       " 'photograp',\n",
       " 'photograp',\n",
       " 'pathograp',\n",
       " 'phytograp',\n",
       " 'phytograp',\n",
       " 'phonoscop',\n",
       " 'photograp',\n",
       " 'pyotherap',\n",
       " 'pharosymp',\n",
       " 'phagoscop',\n",
       " 'ptainship',\n",
       " 'ptainship',\n",
       " 'photherap',\n",
       " 'phiophiop',\n",
       " 'phalograp',\n",
       " 'phalotrip',\n",
       " 'plainship',\n",
       " 'photograp',\n",
       " 'photograp',\n",
       " 'photograp',\n",
       " 'photograp',\n",
       " 'photograp',\n",
       " 'photograp',\n",
       " 'pselomorp',\n",
       " 'pselomorp',\n",
       " 'pselomorp',\n",
       " 'photograp',\n",
       " 'pyelograp',\n",
       " 'prostasop',\n",
       " 'poralship',\n",
       " 'phanoscop',\n",
       " 'phanoscop',\n",
       " 'phototrop',\n",
       " 'phototrop',\n",
       " 'phtheriap',\n",
       " 'pterocarp',\n",
       " 'pterocarp',\n",
       " 'pterocarp',\n",
       " 'pterocarp',\n",
       " 'pterocarp',\n",
       " 'phalograp',\n",
       " 'phalograp',\n",
       " 'phalograp',\n",
       " 'phalograp',\n",
       " 'phalograp',\n",
       " 'phalograp',\n",
       " 'phalograp',\n",
       " 'photograp',\n",
       " 'photograp',\n",
       " 'perorship',\n",
       " 'phalograp',\n",
       " 'phalograp',\n",
       " 'phalograp',\n",
       " 'phalograp',\n",
       " 'phaloscop',\n",
       " 'phaloscop',\n",
       " 'panastrop',\n",
       " 'pidiascop',\n",
       " 'pidiascop',\n",
       " 'phagoscop',\n",
       " 'phagoscop',\n",
       " 'phanoscop',\n",
       " 'photograp',\n",
       " 'patorrhap',\n",
       " 'pautomorp',\n",
       " 'perabsorp',\n",
       " 'perarchep',\n",
       " 'perepinep',\n",
       " 'perepinep',\n",
       " 'perepinep',\n",
       " 'perleptop',\n",
       " 'permetrop',\n",
       " 'permetrop',\n",
       " 'permetrop',\n",
       " 'permetrop',\n",
       " 'permetrop',\n",
       " 'persuscep',\n",
       " 'persuscep',\n",
       " 'pidiomorp',\n",
       " 'pidiomorp',\n",
       " 'pnotherap',\n",
       " 'pnotherap',\n",
       " 'poeosinop',\n",
       " 'pogeocarp',\n",
       " 'pophyseop',\n",
       " 'pophyseop',\n",
       " 'phonograp',\n",
       " 'parorrhap',\n",
       " 'ptoprosop',\n",
       " 'ptoprosop',\n",
       " 'ptoprosop',\n",
       " 'ptoprosop',\n",
       " 'podystrop',\n",
       " 'podystrop',\n",
       " 'psanograp',\n",
       " 'photograp',\n",
       " 'photograp',\n",
       " 'photograp',\n",
       " 'phonograp',\n",
       " 'photograp',\n",
       " 'photograp',\n",
       " 'photograp',\n",
       " 'pantograp',\n",
       " 'petrograp',\n",
       " 'phonograp',\n",
       " 'photograp',\n",
       " 'photograp',\n",
       " 'photograp',\n",
       " 'photograp',\n",
       " 'photograp',\n",
       " 'photograp',\n",
       " 'photograp',\n",
       " 'photoscop',\n",
       " 'photograp',\n",
       " 'pheloscop',\n",
       " 'phrocolop',\n",
       " 'phrocolop',\n",
       " 'phrorrhap',\n",
       " 'photograp',\n",
       " 'photograp',\n",
       " 'photograp',\n",
       " 'pornograp',\n",
       " 'platoscop',\n",
       " 'phaloskep',\n",
       " 'phalotrip',\n",
       " 'phorosalp',\n",
       " 'peidoscop',\n",
       " 'phthalmop',\n",
       " 'phthalmop',\n",
       " 'phthalmop',\n",
       " 'phthalmop',\n",
       " 'phthalmop',\n",
       " 'phthalmop',\n",
       " 'phthalmop',\n",
       " 'phthalmop',\n",
       " 'phthalmop',\n",
       " 'phthalmop',\n",
       " 'positisep',\n",
       " 'pachyblep',\n",
       " 'pachycarp',\n",
       " 'pachysalp',\n",
       " 'paedatrop',\n",
       " 'paedatrop',\n",
       " 'paedomorp',\n",
       " 'paedomorp',\n",
       " 'paedomorp',\n",
       " 'paedotrop',\n",
       " 'paedotrop',\n",
       " 'paedotrop',\n",
       " 'palaeosop',\n",
       " 'palaeotyp',\n",
       " 'palaeotyp',\n",
       " 'palaeotyp',\n",
       " 'palaeotyp',\n",
       " 'palaeotyp',\n",
       " 'palaeotyp',\n",
       " 'palaeotyp',\n",
       " 'palaeotyp',\n",
       " 'palaiotyp',\n",
       " 'paleencep',\n",
       " 'paleencep',\n",
       " 'paleencep',\n",
       " 'paleoglyp',\n",
       " 'paleograp',\n",
       " 'paleograp',\n",
       " 'paleograp',\n",
       " 'paleograp',\n",
       " 'paleograp',\n",
       " 'paleograp',\n",
       " 'paleograp',\n",
       " 'paleograp',\n",
       " 'paleoherp',\n",
       " 'paleoherp',\n",
       " 'paleotrop',\n",
       " 'palistrop',\n",
       " 'pallograp',\n",
       " 'pallograp',\n",
       " 'palmoscop',\n",
       " 'pancyclop',\n",
       " 'panleucop',\n",
       " 'panleukop',\n",
       " 'panmyelop',\n",
       " 'pantagrap',\n",
       " 'pantagrap',\n",
       " 'pantagrap',\n",
       " 'pantamorp',\n",
       " 'pantamorp',\n",
       " 'pantamorp',\n",
       " 'pantascop',\n",
       " 'pantascop',\n",
       " 'pantatrop',\n",
       " 'pantatrop',\n",
       " 'pantograp',\n",
       " 'pantograp',\n",
       " 'pantograp',\n",
       " 'pantograp',\n",
       " 'pantograp',\n",
       " 'pantograp',\n",
       " 'pantomorp',\n",
       " 'pantomorp',\n",
       " 'pantomorp',\n",
       " 'pantoscop',\n",
       " 'pantoscop',\n",
       " 'paperclip',\n",
       " 'papyrotyp',\n",
       " 'paradropp',\n",
       " 'paradropp',\n",
       " 'phototrop',\n",
       " 'parasynap',\n",
       " 'parasynap',\n",
       " 'parasynap',\n",
       " 'parasitop',\n",
       " 'paratroop',\n",
       " 'paratroop',\n",
       " 'paratroop',\n",
       " 'paratroop',\n",
       " 'parietosp',\n",
       " 'parietosp',\n",
       " 'parietosp',\n",
       " 'parthenop',\n",
       " 'parthenop',\n",
       " 'parthenop',\n",
       " 'parthenop',\n",
       " 'parthenop',\n",
       " 'partyship',\n",
       " 'pashaship',\n",
       " 'pathograp',\n",
       " 'pathograp',\n",
       " 'pathograp',\n",
       " 'pathomorp',\n",
       " 'pathomorp',\n",
       " 'pathomorp',\n",
       " 'peacekeep',\n",
       " 'peacekeep',\n",
       " 'peacekeep',\n",
       " 'peacekeep',\n",
       " 'peaseweep',\n",
       " 'pediculop',\n",
       " 'pediculop',\n",
       " 'peeseweep',\n",
       " 'pelvigrap',\n",
       " 'pelvigrap',\n",
       " 'pentacarp',\n",
       " 'pentadelp',\n",
       " 'pentasulp',\n",
       " 'percomorp',\n",
       " 'percomorp',\n",
       " 'percomorp',\n",
       " 'periencep',\n",
       " 'perioesop',\n",
       " 'peripatop',\n",
       " 'peripatop',\n",
       " 'peripylep',\n",
       " 'peristrep',\n",
       " 'peristrep',\n",
       " 'pectograp',\n",
       " 'petitionp',\n",
       " 'petroglyp',\n",
       " 'petroglyp',\n",
       " 'petroglyp',\n",
       " 'petrograp',\n",
       " 'petrograp',\n",
       " 'petrograp',\n",
       " 'petrograp',\n",
       " 'petrograp',\n",
       " 'petrograp',\n",
       " 'petrograp',\n",
       " 'petrotymp',\n",
       " 'pettichap',\n",
       " 'phacoanap',\n",
       " 'phacoscop',\n",
       " 'phainopep',\n",
       " 'phalaenop',\n",
       " 'phalaenop',\n",
       " 'pharyngop',\n",
       " 'pharyngop',\n",
       " 'pharyngop',\n",
       " 'pharyngop',\n",
       " 'pharyngop',\n",
       " 'pharyngop',\n",
       " 'pharyngop',\n",
       " 'pharyngop',\n",
       " 'pharyngop',\n",
       " 'pharyngop',\n",
       " 'pharyngop',\n",
       " 'pharmacop',\n",
       " 'pharmacop',\n",
       " 'pharmacop',\n",
       " 'pharmacop',\n",
       " 'pharmacop',\n",
       " 'pharmacop',\n",
       " 'pharmacop',\n",
       " 'pharmacop',\n",
       " 'pharmacop',\n",
       " 'pharmacop',\n",
       " 'pharmacop',\n",
       " 'pharmacop',\n",
       " 'pharmacop',\n",
       " 'pharmacop',\n",
       " 'pharmacop',\n",
       " 'pharmacop',\n",
       " 'pharmacop',\n",
       " 'pharmacop',\n",
       " 'phasotrop',\n",
       " 'phycograp',\n",
       " 'philadelp',\n",
       " 'philadelp',\n",
       " 'philadelp',\n",
       " 'philadelp',\n",
       " 'philadelp',\n",
       " 'philadelp',\n",
       " 'philadelp',\n",
       " 'philippop',\n",
       " 'phyllosip',\n",
       " 'philodesp',\n",
       " 'philograp',\n",
       " 'phylograp',\n",
       " 'philograp',\n",
       " 'philoklep',\n",
       " 'philotadp',\n",
       " 'physalosp',\n",
       " 'physicoop',\n",
       " 'physiosop',\n",
       " 'physiosop',\n",
       " 'physiotyp',\n",
       " 'physiotyp',\n",
       " 'physocarp',\n",
       " 'physocarp',\n",
       " 'phytograp',\n",
       " 'phytograp',\n",
       " 'phytograp',\n",
       " 'phytograp',\n",
       " 'phytograp',\n",
       " 'phytograp',\n",
       " 'phytomorp',\n",
       " 'phytomorp',\n",
       " 'phytomorp',\n",
       " 'phoenicop',\n",
       " 'phoenicop',\n",
       " 'phoenicop',\n",
       " 'phoenicop',\n",
       " 'phoenicop',\n",
       " 'phoenicop',\n",
       " 'phoenicop',\n",
       " 'phonocamp',\n",
       " 'phonoglyp',\n",
       " 'phonograp',\n",
       " 'phonograp',\n",
       " 'phonograp',\n",
       " 'phonograp',\n",
       " 'phonograp',\n",
       " 'phonograp',\n",
       " 'phonograp',\n",
       " 'phonograp',\n",
       " 'phonograp',\n",
       " 'photograp',\n",
       " 'photoscop',\n",
       " 'photoscop',\n",
       " 'phonoscop',\n",
       " 'phoroscop',\n",
       " 'phoglycop',\n",
       " 'phorograp',\n",
       " 'phorograp',\n",
       " 'phorograp',\n",
       " 'phoroscop',\n",
       " 'photocamp',\n",
       " 'photocomp',\n",
       " 'photocomp',\n",
       " 'photocomp',\n",
       " 'photocomp',\n",
       " 'photocomp',\n",
       " 'photocomp',\n",
       " 'photodysp',\n",
       " 'photoglyp',\n",
       " 'photoglyp',\n",
       " 'photoglyp',\n",
       " 'photoglyp',\n",
       " 'photoglyp',\n",
       " 'photoglyp',\n",
       " 'photograp',\n",
       " 'photograp',\n",
       " 'photograp',\n",
       " 'photograp',\n",
       " 'photograp',\n",
       " 'photograp',\n",
       " 'photograp',\n",
       " 'photograp',\n",
       " 'photograp',\n",
       " 'photograp',\n",
       " 'photograp',\n",
       " 'photograp',\n",
       " 'photograp',\n",
       " 'photograp',\n",
       " 'photograp',\n",
       " 'photograp',\n",
       " 'photograp',\n",
       " 'photograp',\n",
       " 'photograp',\n",
       " 'photomapp',\n",
       " 'photomapp',\n",
       " 'photomapp',\n",
       " 'photomapp',\n",
       " 'photomapp',\n",
       " 'photomorp',\n",
       " 'photomorp',\n",
       " 'photomorp',\n",
       " 'photoresp',\n",
       " 'photoscop',\n",
       " 'photoscop',\n",
       " 'photoscop',\n",
       " 'phototrop',\n",
       " 'phototrop',\n",
       " 'phototrop',\n",
       " 'phototrop',\n",
       " 'phototrop',\n",
       " 'phototrop',\n",
       " 'phototrop',\n",
       " 'phototrop',\n",
       " 'phractamp',\n",
       " 'phrenicop',\n",
       " 'phrenohep',\n",
       " 'phronemop',\n",
       " 'phthisiop',\n",
       " 'pianograp',\n",
       " 'pycnidiop',\n",
       " 'pycnomorp',\n",
       " 'pycnomorp',\n",
       " 'pictograp',\n",
       " 'pictograp',\n",
       " 'pictograp',\n",
       " 'pictograp',\n",
       " 'pictograp',\n",
       " 'pyelograp',\n",
       " 'pyelograp',\n",
       " 'pyelograp',\n",
       " 'pyeloscop',\n",
       " 'pigmentop',\n",
       " 'pygmyship',\n",
       " 'pilotship',\n",
       " 'pindjajap',\n",
       " 'pyotherap',\n",
       " 'pipestapp',\n",
       " 'pyramidop',\n",
       " 'pyrheliop',\n",
       " 'pyroninop',\n",
       " 'pyrophosp',\n",
       " 'pyrophosp',\n",
       " 'pyrophosp',\n",
       " 'pyrophosp',\n",
       " 'photograp',\n",
       " 'photograp',\n",
       " 'pyrostilp',\n",
       " 'pyrroporp',\n",
       " 'pityocamp',\n",
       " 'pityocamp',\n",
       " 'pityocamp',\n",
       " 'plagiocep',\n",
       " 'plagiocep',\n",
       " 'plagiocep',\n",
       " 'plagiocep',\n",
       " 'plagiolip',\n",
       " 'playscrip',\n",
       " 'planigrap',\n",
       " 'planigrap',\n",
       " 'planiscop',\n",
       " 'planiscop',\n",
       " 'planograp',\n",
       " 'planograp',\n",
       " 'planograp',\n",
       " 'planograp',\n",
       " 'planograp',\n",
       " 'plasmatop',\n",
       " 'plastotyp',\n",
       " 'platycarp',\n",
       " 'platycarp',\n",
       " 'platystap',\n",
       " 'platytrop',\n",
       " 'platytrop',\n",
       " 'pleasurep',\n",
       " 'pleiotrop',\n",
       " 'pleiotrop',\n",
       " 'pleiotrop',\n",
       " 'pleiotrop',\n",
       " 'pleromorp',\n",
       " 'plesiotyp',\n",
       " 'pleurapop',\n",
       " 'pleurapop',\n",
       " 'pleurisep',\n",
       " 'pleurocap',\n",
       " 'pleurocap',\n",
       " 'pleurocap',\n",
       " 'pleurohep',\n",
       " 'pleurotyp',\n",
       " 'pluricarp',\n",
       " 'pluricusp',\n",
       " 'pluricusp',\n",
       " 'plusquamp',\n",
       " 'pneumatop',\n",
       " 'pneumatop',\n",
       " 'pneumatop',\n",
       " 'pneumatop',\n",
       " 'pneumatop',\n",
       " 'pneumatop',\n",
       " 'pneumatop',\n",
       " 'pneumatop',\n",
       " 'pneumatop',\n",
       " 'pneumonop',\n",
       " 'pneumonop',\n",
       " 'pneumonop',\n",
       " 'pneumonop',\n",
       " 'pneumonop',\n",
       " 'pneumonop',\n",
       " 'pneumotyp',\n",
       " 'pneumotyp',\n",
       " 'polyadelp',\n",
       " 'polyadelp',\n",
       " 'polyadelp',\n",
       " 'polyadelp',\n",
       " 'poliencep',\n",
       " 'poliencep',\n",
       " 'polyphosp',\n",
       " 'polysynap',\n",
       " 'polysynap',\n",
       " 'politicop',\n",
       " 'pontocasp',\n",
       " 'popocatep',\n",
       " 'pornograp',\n",
       " 'pornograp',\n",
       " 'pornograp',\n",
       " 'pornograp',\n",
       " 'pornograp',\n",
       " 'pornograp',\n",
       " 'pornograp',\n",
       " 'pornograp',\n",
       " 'porphyrop',\n",
       " 'porphyrop',\n",
       " 'postdisap',\n",
       " 'postencep',\n",
       " 'postencep',\n",
       " 'postgripp',\n",
       " 'posthemip',\n",
       " 'posthexap',\n",
       " 'posthexap',\n",
       " 'posthypop',\n",
       " 'posthypop',\n",
       " 'postmenop',\n",
       " 'postpuerp',\n",
       " 'postscrip',\n",
       " 'postscrip',\n",
       " 'postscrip',\n",
       " 'postscrip',\n",
       " 'postsynap',\n",
       " 'postsynap',\n",
       " 'postzygap',\n",
       " 'postzygap',\n",
       " 'postzygap',\n",
       " 'potwallop',\n",
       " 'poughkeep',\n",
       " 'poundkeep',\n",
       " 'praezygap',\n",
       " 'prajadhip',\n",
       " 'preaccomp',\n",
       " 'preaccomp',\n",
       " 'preassump',\n",
       " 'precollap',\n",
       " 'precollap',\n",
       " 'precollap',\n",
       " 'precollap',\n",
       " 'precollap',\n",
       " 'precollap',\n",
       " 'preconcep',\n",
       " 'preconcep',\n",
       " 'preconcep',\n",
       " 'preconcep',\n",
       " 'preconcep',\n",
       " 'preconcep',\n",
       " 'precorrup',\n",
       " 'precorrup',\n",
       " 'precorrup',\n",
       " 'precorrup',\n",
       " 'precorrup',\n",
       " 'predisapp',\n",
       " 'prediscip',\n",
       " 'prediscip',\n",
       " 'prediscip',\n",
       " 'predisrup',\n",
       " 'predisrup',\n",
       " 'preequipp',\n",
       " 'preequipp',\n",
       " 'preforcep',\n",
       " 'preincorp',\n",
       " 'preincorp',\n",
       " 'preincorp',\n",
       " 'preincorp',\n",
       " 'preindisp',\n",
       " 'preindisp',\n",
       " 'preindisp',\n",
       " 'preindisp',\n",
       " 'preinterp',\n",
       " 'preinterp',\n",
       " 'preinterp',\n",
       " 'premisrep',\n",
       " 'premisrep',\n",
       " 'premultip',\n",
       " 'premultip',\n",
       " 'premultip',\n",
       " 'premultip',\n",
       " 'prepercep',\n",
       " 'prepercep',\n",
       " 'prereceip',\n",
       " 'preredemp',\n",
       " 'pressurep',\n",
       " 'presuscep',\n",
       " 'presuscep',\n",
       " 'preterdip',\n",
       " 'preterdip',\n",
       " 'preterimp',\n",
       " 'preternup',\n",
       " 'pretransp',\n",
       " 'pretransp',\n",
       " 'priestcap',\n",
       " 'princicip',\n",
       " 'printshop',\n",
       " 'priorship',\n",
       " 'proapprop',\n",
       " 'procosmop',\n",
       " 'properisp',\n",
       " 'properisp',\n",
       " 'pertyship',\n",
       " 'phototrop',\n",
       " 'phototrop',\n",
       " 'propriosp',\n",
       " 'proredemp',\n",
       " 'prosencep',\n",
       " 'prosencep',\n",
       " 'prosoposp',\n",
       " 'proteolip',\n",
       " 'protocopp',\n",
       " 'protoepip',\n",
       " 'protogosp',\n",
       " 'protograp',\n",
       " 'protohipp',\n",
       " 'protomorp',\n",
       " 'protomorp',\n",
       " 'protonymp',\n",
       " 'protonymp',\n",
       " 'protopapp',\n",
       " 'protoporp',\n",
       " 'protosulp',\n",
       " 'protosulp',\n",
       " 'prototrop',\n",
       " 'prototrop',\n",
       " 'prototrop',\n",
       " 'prowaterp',\n",
       " 'proxyship',\n",
       " 'pseudelep',\n",
       " 'pseudepip',\n",
       " 'pseudepip',\n",
       " 'pseudoapp',\n",
       " 'pseudoapp',\n",
       " 'pseudoapp',\n",
       " 'pseudoapp',\n",
       " 'pseudobap',\n",
       " 'pseudocap',\n",
       " 'pseudocap',\n",
       " 'pseudocyp',\n",
       " 'pseudodip',\n",
       " 'pseudodip',\n",
       " 'pseudodip',\n",
       " 'pseudodip',\n",
       " 'pseudodip',\n",
       " 'pseudodip',\n",
       " 'pseudodip',\n",
       " 'pseudoexp',\n",
       " 'pseudoexp',\n",
       " 'pseudohyp',\n",
       " 'pseudohyp',\n",
       " 'pseudoimp',\n",
       " 'pseudoimp',\n",
       " 'pseudopap',\n",
       " 'pseudopap',\n",
       " 'pseudopop',\n",
       " 'pseudopup',\n",
       " 'pseudopup',\n",
       " 'pseudorep',\n",
       " 'pseudosep',\n",
       " 'pseudosyp',\n",
       " 'pseudosyp',\n",
       " 'pseudosip',\n",
       " 'pseudosip',\n",
       " 'pseudosip',\n",
       " 'pseudosop',\n",
       " 'pseudosop',\n",
       " 'pseudosop',\n",
       " 'pseudosop',\n",
       " 'pseudosop',\n",
       " 'pseudotyp',\n",
       " 'pseudovip',\n",
       " 'pseudovip',\n",
       " 'pseudovip',\n",
       " 'psycholep',\n",
       " 'psycholep',\n",
       " 'psychosop',\n",
       " 'pteridosp',\n",
       " 'pteridosp',\n",
       " 'pteridosp',\n",
       " 'pteridosp',\n",
       " 'pteridosp',\n",
       " 'pterygiop',\n",
       " 'pterygosp',\n",
       " 'pterygosp',\n",
       " 'pterocarp',\n",
       " 'pterocarp',\n",
       " 'pterograp',\n",
       " 'pterograp',\n",
       " 'pterograp',\n",
       " 'pterograp',\n",
       " 'ptomatrop',\n",
       " 'puncturep',\n",
       " 'pilloscop',\n",
       " 'pilloscop',\n",
       " 'pilloscop',\n",
       " 'purplelip',\n",
       " 'phonograp',\n",
       " 'photograp',\n",
       " 'photograp',\n",
       " 'photograp',\n",
       " 'photograp',\n",
       " 'photograp',\n",
       " 'photograp',\n",
       " 'pingoscop',\n",
       " 'pingostap',\n",
       " 'pindaship',\n",
       " 'planograp',\n",
       " 'palmograp',\n",
       " 'phoricarp',\n",
       " 'phoricarp',\n",
       " 'philograp',\n",
       " 'philograp',\n",
       " 'phonoglyp',\n",
       " 'phonoglyp',\n",
       " 'ppersnapp',\n",
       " 'paciotemp',\n",
       " 'patiograp',\n",
       " 'patiotemp',\n",
       " 'patiotemp',\n",
       " 'photograp',\n",
       " 'photograp',\n",
       " 'permatiop',\n",
       " 'permatosp',\n",
       " 'permocarp',\n",
       " 'phenograp',\n",
       " 'phenograp',\n",
       " 'phenograp',\n",
       " 'phenograp',\n",
       " 'phenotemp',\n",
       " 'phenotrip',\n",
       " 'pherograp',\n",
       " 'pinoperip',\n",
       " 'piritlamp',\n",
       " 'piritromp',\n",
       " 'planchnap',\n",
       " 'planchnap',\n",
       " 'planchnop',\n",
       " 'planchnop',\n",
       " 'planchnop',\n",
       " 'planchnop',\n",
       " 'planchnop',\n",
       " 'planchnop',\n",
       " 'plenatrop',\n",
       " 'plenatrop',\n",
       " 'plendourp',\n",
       " 'plenectop',\n",
       " 'plenectop',\n",
       " 'plenograp',\n",
       " 'plenolymp',\n",
       " 'plenolymp',\n",
       " 'porangiop',\n",
       " 'pringtrap',\n",
       " 'photograp',\n",
       " 'photograp',\n",
       " 'photograp',\n",
       " 'planigrap',\n",
       " 'ptainship',\n",
       " 'postscrip',\n",
       " 'priorship',\n",
       " 'peraccomp',\n",
       " 'perassump',\n",
       " 'perconcep',\n",
       " 'perincomp',\n",
       " 'perincomp',\n",
       " 'perincomp',\n",
       " 'permetrop',\n",
       " 'permishap',\n",
       " 'pradecomp',\n",
       " 'phonograp',\n",
       " 'phonograp',\n",
       " 'phonograp',\n",
       " 'photograp',\n",
       " 'photograp',\n",
       " 'photograp',\n",
       " 'photograp',\n",
       " 'photograp',\n",
       " 'photograp',\n",
       " 'porooccip',\n",
       " 'phoroscop',\n",
       " 'photherap',\n",
       " 'philadelp',\n",
       " 'phonograp',\n",
       " 'photograp',\n",
       " 'photograp',\n",
       " 'photograp',\n",
       " 'pornograp',\n",
       " 'photograp',\n",
       " 'pyelograp',\n",
       " 'photograp',\n",
       " 'ppersnapp',\n",
       " 'ppersnapp',\n",
       " 'phytograp',\n",
       " 'praxiscop',\n",
       " 'porangiop']"
      ]
     },
     "execution_count": 66,
     "metadata": {},
     "output_type": "execute_result"
    }
   ],
   "source": [
    "pp.findall(DictText)"
   ]
  },
  {
   "cell_type": "code",
   "execution_count": 68,
   "metadata": {},
   "outputs": [],
   "source": [
    "pp2 = re.compile(r'\\s[p]\\w{7}[p]\\s')"
   ]
  },
  {
   "cell_type": "code",
   "execution_count": 69,
   "metadata": {},
   "outputs": [
    {
     "data": {
      "text/plain": [
       "[' paperclip ',\n",
       " ' paratroop ',\n",
       " ' partyship ',\n",
       " ' pashaship ',\n",
       " ' peaseweep ',\n",
       " ' peeseweep ',\n",
       " ' pygmyship ',\n",
       " ' pilotship ',\n",
       " ' pindjajap ',\n",
       " ' priestcap ',\n",
       " ' printshop ',\n",
       " ' priorship ',\n",
       " ' proxyship ',\n",
       " ' purplelip ']"
      ]
     },
     "execution_count": 69,
     "metadata": {},
     "output_type": "execute_result"
    }
   ],
   "source": [
    "pp2.findall(DictText)"
   ]
  },
  {
   "cell_type": "code",
   "execution_count": null,
   "metadata": {},
   "outputs": [],
   "source": []
  },
  {
   "cell_type": "code",
   "execution_count": null,
   "metadata": {},
   "outputs": [],
   "source": []
  },
  {
   "cell_type": "markdown",
   "metadata": {},
   "source": [
    "## Another puzzle\n",
    "\n",
    "What word starts with the letters und and ends with the letters und?\n"
   ]
  },
  {
   "cell_type": "code",
   "execution_count": null,
   "metadata": {},
   "outputs": [],
   "source": []
  },
  {
   "cell_type": "code",
   "execution_count": null,
   "metadata": {},
   "outputs": [],
   "source": []
  },
  {
   "cell_type": "code",
   "execution_count": null,
   "metadata": {},
   "outputs": [],
   "source": []
  },
  {
   "cell_type": "code",
   "execution_count": null,
   "metadata": {},
   "outputs": [],
   "source": []
  },
  {
   "cell_type": "code",
   "execution_count": null,
   "metadata": {},
   "outputs": [],
   "source": []
  },
  {
   "cell_type": "code",
   "execution_count": null,
   "metadata": {},
   "outputs": [],
   "source": []
  },
  {
   "cell_type": "markdown",
   "metadata": {},
   "source": [
    "## Other than puzzle solving, some other common Reg Ex uses"
   ]
  },
  {
   "cell_type": "code",
   "execution_count": null,
   "metadata": {},
   "outputs": [],
   "source": []
  },
  {
   "cell_type": "code",
   "execution_count": null,
   "metadata": {},
   "outputs": [],
   "source": []
  },
  {
   "cell_type": "code",
   "execution_count": null,
   "metadata": {},
   "outputs": [],
   "source": []
  },
  {
   "cell_type": "code",
   "execution_count": null,
   "metadata": {},
   "outputs": [],
   "source": []
  },
  {
   "cell_type": "code",
   "execution_count": null,
   "metadata": {},
   "outputs": [],
   "source": []
  },
  {
   "cell_type": "code",
   "execution_count": null,
   "metadata": {},
   "outputs": [],
   "source": []
  },
  {
   "cell_type": "code",
   "execution_count": null,
   "metadata": {},
   "outputs": [],
   "source": []
  },
  {
   "cell_type": "code",
   "execution_count": null,
   "metadata": {},
   "outputs": [],
   "source": []
  },
  {
   "cell_type": "code",
   "execution_count": null,
   "metadata": {},
   "outputs": [],
   "source": []
  },
  {
   "cell_type": "code",
   "execution_count": null,
   "metadata": {},
   "outputs": [],
   "source": []
  },
  {
   "cell_type": "code",
   "execution_count": null,
   "metadata": {},
   "outputs": [],
   "source": []
  },
  {
   "cell_type": "code",
   "execution_count": null,
   "metadata": {},
   "outputs": [],
   "source": []
  },
  {
   "cell_type": "code",
   "execution_count": null,
   "metadata": {},
   "outputs": [],
   "source": []
  },
  {
   "cell_type": "code",
   "execution_count": null,
   "metadata": {},
   "outputs": [],
   "source": []
  },
  {
   "cell_type": "code",
   "execution_count": null,
   "metadata": {},
   "outputs": [],
   "source": []
  },
  {
   "cell_type": "code",
   "execution_count": null,
   "metadata": {},
   "outputs": [],
   "source": []
  },
  {
   "cell_type": "code",
   "execution_count": null,
   "metadata": {},
   "outputs": [],
   "source": []
  },
  {
   "cell_type": "code",
   "execution_count": null,
   "metadata": {},
   "outputs": [],
   "source": []
  },
  {
   "cell_type": "code",
   "execution_count": null,
   "metadata": {},
   "outputs": [],
   "source": []
  },
  {
   "cell_type": "code",
   "execution_count": null,
   "metadata": {},
   "outputs": [],
   "source": []
  },
  {
   "cell_type": "code",
   "execution_count": null,
   "metadata": {},
   "outputs": [],
   "source": []
  },
  {
   "cell_type": "code",
   "execution_count": null,
   "metadata": {},
   "outputs": [],
   "source": []
  },
  {
   "cell_type": "code",
   "execution_count": null,
   "metadata": {},
   "outputs": [],
   "source": []
  },
  {
   "cell_type": "code",
   "execution_count": null,
   "metadata": {},
   "outputs": [],
   "source": []
  },
  {
   "cell_type": "code",
   "execution_count": null,
   "metadata": {},
   "outputs": [],
   "source": []
  }
 ],
 "metadata": {
  "kernelspec": {
   "display_name": "Python 3",
   "language": "python",
   "name": "python3"
  },
  "language_info": {
   "codemirror_mode": {
    "name": "ipython",
    "version": 3
   },
   "file_extension": ".py",
   "mimetype": "text/x-python",
   "name": "python",
   "nbconvert_exporter": "python",
   "pygments_lexer": "ipython3",
   "version": "3.8.5"
  }
 },
 "nbformat": 4,
 "nbformat_minor": 4
}
