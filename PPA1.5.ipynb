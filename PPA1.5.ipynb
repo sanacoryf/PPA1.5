{
 "cells": [
  {
   "cell_type": "markdown",
   "metadata": {},
   "source": [
    "Last time we saw a way to answer the follwing puzzle\n",
    "\n",
    "What's a 9 letter word that starts with P, ends with P, and has a third P somewhere inside it?\n",
    "\n",
    "Now we introduce a powerful library, RegEx, to parse text that coould help us with the next puzzle.\n",
    "\n",
    "\n",
    "riddle from @HaggardHawks, HH brainteaser time with @bbcnewcastle\n",
    " @LisaShawRadio tweeted on 7:01 AM · Jan 21, 2021\n",
    " \n",
    "Some of todays lesson is from <b>Mastering Regular Expressions</b> by Jeffrey E. F. Friedl and from  <b>A Whirlwind Tour of Python </b> by Jake VaderPlas (available free here https://jakevdp.github.io/WhirlwindTourOfPython/).\n"
   ]
  },
  {
   "cell_type": "code",
   "execution_count": null,
   "metadata": {},
   "outputs": [],
   "source": []
  },
  {
   "cell_type": "markdown",
   "metadata": {},
   "source": [
    "## But first what we did last meeting"
   ]
  },
  {
   "cell_type": "code",
   "execution_count": null,
   "metadata": {},
   "outputs": [],
   "source": [
    "# First we need a dictionary\n",
    "\n",
    "import urllib.request  # the lib that handles the url stuff\n",
    "\n",
    "target_url = \"http://www.sanacory.net/analytics/LIDA/21.02.18/words.txt\"\n",
    "aDict = [line.decode('utf-8') for line in urllib.request.urlopen(target_url)]"
   ]
  },
  {
   "cell_type": "code",
   "execution_count": null,
   "metadata": {},
   "outputs": [],
   "source": [
    "# Clean that dictionary a little\n",
    "aDict = [word.lower().strip() for word in aDict]"
   ]
  },
  {
   "cell_type": "code",
   "execution_count": null,
   "metadata": {},
   "outputs": [],
   "source": []
  },
  {
   "cell_type": "code",
   "execution_count": null,
   "metadata": {},
   "outputs": [],
   "source": [
    "def PPP(word):\n",
    "    if len(word) != 9:\n",
    "        return False\n",
    "    if (word[0] == 'p' and word[-1] == 'p' and 'p' in word[1:8]):\n",
    "        return True\n",
    "    else:\n",
    "        return False"
   ]
  },
  {
   "cell_type": "code",
   "execution_count": null,
   "metadata": {},
   "outputs": [],
   "source": [
    "for word in aDict:\n",
    "    if PPP(word):\n",
    "        print(word)\n"
   ]
  },
  {
   "cell_type": "code",
   "execution_count": null,
   "metadata": {},
   "outputs": [],
   "source": []
  },
  {
   "cell_type": "markdown",
   "metadata": {},
   "source": [
    "## Now to introduce regular expressions"
   ]
  },
  {
   "cell_type": "code",
   "execution_count": null,
   "metadata": {},
   "outputs": [],
   "source": [
    "import re"
   ]
  },
  {
   "cell_type": "code",
   "execution_count": null,
   "metadata": {},
   "outputs": [],
   "source": [
    "# define a regular expression"
   ]
  },
  {
   "cell_type": "code",
   "execution_count": null,
   "metadata": {},
   "outputs": [],
   "source": [
    "email = re.compile('\\w+@\\w+\\.com')"
   ]
  },
  {
   "cell_type": "code",
   "execution_count": null,
   "metadata": {},
   "outputs": [],
   "source": [
    "someText = \"Hello I would like you to meet Bailey, bailey@aCompany.com, and\"\\\n",
    "    \" Alice, Alice@bSchool.edu, and Tom,\"\\\n",
    "    \" StudMuffin@GeeMail.com\" #Hint do't use unprofessional emails"
   ]
  },
  {
   "cell_type": "code",
   "execution_count": null,
   "metadata": {},
   "outputs": [],
   "source": [
    "someText"
   ]
  },
  {
   "cell_type": "code",
   "execution_count": null,
   "metadata": {},
   "outputs": [],
   "source": [
    "email.findall(someText)"
   ]
  },
  {
   "cell_type": "code",
   "execution_count": null,
   "metadata": {},
   "outputs": [],
   "source": [
    "# Magic!  It  found our emails, what did it do?\n",
    "# What did it not do?"
   ]
  },
  {
   "cell_type": "code",
   "execution_count": null,
   "metadata": {},
   "outputs": [],
   "source": []
  },
  {
   "cell_type": "code",
   "execution_count": null,
   "metadata": {},
   "outputs": [],
   "source": [
    "email = re.compile('\\w+@\\w+\\.[a-z]{3}')"
   ]
  },
  {
   "cell_type": "code",
   "execution_count": null,
   "metadata": {},
   "outputs": [],
   "source": [
    "email.findall(someText)"
   ]
  },
  {
   "cell_type": "code",
   "execution_count": null,
   "metadata": {},
   "outputs": [],
   "source": [
    "someText = \"Hello I would like you to meet Bailey, bailey@aCompany.com, and\"\\\n",
    "    \" Alice, Alice@bSchool.edu, and Tom,\"\\\n",
    "    \" Stud.Muffin@GeeMail.com\" #Hint do't use unprofessional emails"
   ]
  },
  {
   "cell_type": "markdown",
   "metadata": {},
   "source": [
    " \\w Match any alphanumeric char\n",
    " \n",
    " \\d Match any digit"
   ]
  },
  {
   "cell_type": "code",
   "execution_count": null,
   "metadata": {},
   "outputs": [],
   "source": [
    "email = re.compile('[\\w.]+@\\w+\\.[a-z]{3}')\n",
    "#does it work?  Why or whynot?"
   ]
  },
  {
   "cell_type": "code",
   "execution_count": null,
   "metadata": {},
   "outputs": [],
   "source": []
  },
  {
   "cell_type": "code",
   "execution_count": null,
   "metadata": {},
   "outputs": [],
   "source": [
    "# For you\n",
    "# given the text below find the phone number"
   ]
  },
  {
   "cell_type": "code",
   "execution_count": null,
   "metadata": {},
   "outputs": [],
   "source": [
    "MoreText = \"Shopping T-Mobile \\\n",
    "For personal: 1-800-T-MOBILE  \\\n",
    "For business: 1-844-428-9675  \\\n",
    "General Customer Care & Technical Support  \\\n",
    "From the T-Mobile app, on a T-Mobile phone  \\\n",
    "From your T-Mobile phone: 611  \\\n",
    "Call: 1-800-937-8997  \\\n",
    "If you are calling about a technical issue with your T-Mobile service, please call from a different phone so that we can troubleshoot with you.\\\n",
    "International Callers \\\n",
    "Call: 1-505-998-3793 \\\n",
    "\\\n",
    "All calls made to this number from a T-Mobile handset are free from roaming, airtime, or long distance charges. Calls made to this number from landlines and non-T-Mobile phones will incur international long distance charges as well as any other additional charges that may apply.\\\n",
    "\\\n",
    "Customer Care representatives are available daily from 4 a.m. to Midnight PST\\\n",
    "Call Us - TTY \\\n",
    "TTY service is available for the hearing and speech impaired. \\\n",
    "\\\n",
    "Call us via TTY toll free at 1-877-296-1018 \\\n",
    "\\\n",
    "TTY hours are from 4:00 a.m. - Midnight PST, daily.\""
   ]
  },
  {
   "cell_type": "code",
   "execution_count": null,
   "metadata": {},
   "outputs": [],
   "source": [
    "MoreText"
   ]
  },
  {
   "cell_type": "code",
   "execution_count": null,
   "metadata": {},
   "outputs": [],
   "source": [
    "# your code here\n",
    "\n",
    "phone = re.compile('1-[\\d]{3}-[\\d]{3}-[\\d]{4}')"
   ]
  },
  {
   "cell_type": "code",
   "execution_count": null,
   "metadata": {},
   "outputs": [],
   "source": [
    "phone.findall(MoreText)"
   ]
  },
  {
   "cell_type": "code",
   "execution_count": null,
   "metadata": {},
   "outputs": [],
   "source": []
  },
  {
   "cell_type": "code",
   "execution_count": null,
   "metadata": {},
   "outputs": [],
   "source": [
    "aFile = open(\"sample.txt\", \"r\")\n",
    "fileText = aFile.read()\n",
    "aFile.close()\n"
   ]
  },
  {
   "cell_type": "code",
   "execution_count": null,
   "metadata": {},
   "outputs": [],
   "source": [
    "fileText[:100]"
   ]
  },
  {
   "cell_type": "code",
   "execution_count": null,
   "metadata": {},
   "outputs": [],
   "source": []
  },
  {
   "cell_type": "code",
   "execution_count": null,
   "metadata": {},
   "outputs": [],
   "source": []
  },
  {
   "cell_type": "markdown",
   "metadata": {},
   "source": [
    "<table>\n",
    "<tr><td>\n",
    "Character</td><td > Description</td>\n",
    "</tr><tr><td>\n",
    "    \\d </td><td>Match any digit</td>\n",
    "</tr><tr><td>\n",
    "    \\D </td><td> Match any non-digit</td>\n",
    "</tr><tr><td>\n",
    "    \\s </td><td> Match any whitespace</td>\n",
    "</tr><tr><td>\n",
    "    \\S </td><td> Match any non-whitespace</td>\n",
    "</tr><tr><td>\n",
    "    \\w </td><td> Match any alphanumeric char</td>\n",
    "</tr><tr><td>\n",
    "    \\W </td><td>Match any non-alphanumeric char</td>\n",
    "</td></tr>\n",
    "</table>"
   ]
  },
  {
   "cell_type": "code",
   "execution_count": null,
   "metadata": {},
   "outputs": [],
   "source": []
  },
  {
   "cell_type": "markdown",
   "metadata": {},
   "source": [
    "<table>\n",
    "<tr><td>Character</td><td > Description</td> <td >Example</td> \n",
    "\n",
    "</tr><tr><td> ? </td> <td >Match zero or one repetitions of preceding\n",
    "</td> <td > ab? matches a or ab </td> \n",
    "\n",
    "</tr><tr><td> * </td> <td >Match zero or more repetitions of preceding \n",
    "</td> <td >  ab*  matches a , ab , abb , abbb ...</td> \n",
    "\n",
    "</tr><tr><td> + </td> <td >match one or more repetitions of preceding\n",
    "</td> <td > ab+ matches ab , abb , abbb ... but\n",
    "not a </td> \n",
    "\n",
    "</tr><tr><td> {n} </td> <td >Match n repetitions of preceding\n",
    "</td> <td > ab{2} matches abb </td> \n",
    "\n",
    "</tr><tr><td> {m,n} </td> <td >Match between m and n repetitions of\n",
    "preceding\n",
    "</td> <td >   ab{2,3} matches abb or abbb </td> \n",
    "\n",
    "</tr></table>\n"
   ]
  },
  {
   "cell_type": "code",
   "execution_count": null,
   "metadata": {},
   "outputs": [],
   "source": []
  },
  {
   "cell_type": "markdown",
   "metadata": {},
   "source": [
    "### string vs raw string"
   ]
  },
  {
   "cell_type": "code",
   "execution_count": null,
   "metadata": {},
   "outputs": [],
   "source": [
    "a = \"a\\tb\\tc\\td\" #stored as a raw string\n",
    "print(a)"
   ]
  },
  {
   "cell_type": "code",
   "execution_count": null,
   "metadata": {},
   "outputs": [],
   "source": [
    "a = r\"a\\tb\\tc\\td\" #stored as a raw string\n",
    "print(a)"
   ]
  },
  {
   "cell_type": "code",
   "execution_count": null,
   "metadata": {},
   "outputs": [],
   "source": [
    "# Let's use raw stringds from now on so my answers to the above are\n",
    "\n",
    "email = re.compile(r'[\\w.]+@\\w+\\.[a-z]{3}')\n",
    "phone = re.compile(r'[-(.\\s][\\d]{3}[-).][\\d]{3}[-).][\\d]{4}')\n"
   ]
  },
  {
   "cell_type": "code",
   "execution_count": null,
   "metadata": {},
   "outputs": [],
   "source": []
  },
  {
   "cell_type": "markdown",
   "metadata": {},
   "source": [
    "## Let's redo our old puzzle"
   ]
  },
  {
   "cell_type": "code",
   "execution_count": null,
   "metadata": {},
   "outputs": [],
   "source": [
    "goodWords = ['purplelip','pupilship','paperclip']\n",
    "badWords = ['penelope','plantwerp','vivacious']"
   ]
  },
  {
   "cell_type": "code",
   "execution_count": null,
   "metadata": {},
   "outputs": [],
   "source": [
    "pp = re.compile(r'[p]\\w{7}[p]') \n",
    "\n",
    "\n"
   ]
  },
  {
   "cell_type": "code",
   "execution_count": null,
   "metadata": {},
   "outputs": [],
   "source": [
    "pp.findall(goodWords[2])"
   ]
  },
  {
   "cell_type": "code",
   "execution_count": null,
   "metadata": {},
   "outputs": [],
   "source": [
    "pp.findall(badWords[2])"
   ]
  },
  {
   "cell_type": "code",
   "execution_count": null,
   "metadata": {},
   "outputs": [],
   "source": [
    "DictText = \" \".join(aDict)"
   ]
  },
  {
   "cell_type": "code",
   "execution_count": null,
   "metadata": {},
   "outputs": [],
   "source": [
    "DictText"
   ]
  },
  {
   "cell_type": "code",
   "execution_count": null,
   "metadata": {},
   "outputs": [],
   "source": []
  },
  {
   "cell_type": "code",
   "execution_count": null,
   "metadata": {},
   "outputs": [],
   "source": [
    "pp.findall(DictText)"
   ]
  },
  {
   "cell_type": "code",
   "execution_count": null,
   "metadata": {},
   "outputs": [],
   "source": [
    "pp2 = re.compile(r'\\s[p]\\w{7}[p]\\s')"
   ]
  },
  {
   "cell_type": "code",
   "execution_count": null,
   "metadata": {},
   "outputs": [],
   "source": [
    "pp2.findall(DictText)"
   ]
  },
  {
   "cell_type": "code",
   "execution_count": null,
   "metadata": {},
   "outputs": [],
   "source": [
    "#what is the difference between pp and pp2?"
   ]
  },
  {
   "cell_type": "code",
   "execution_count": null,
   "metadata": {},
   "outputs": [],
   "source": []
  },
  {
   "cell_type": "markdown",
   "metadata": {},
   "source": [
    "## Another puzzle\n",
    "\n",
    "What word starts with the letters und and ends with the letters und?\n"
   ]
  },
  {
   "cell_type": "code",
   "execution_count": null,
   "metadata": {},
   "outputs": [],
   "source": []
  },
  {
   "cell_type": "code",
   "execution_count": null,
   "metadata": {},
   "outputs": [],
   "source": []
  },
  {
   "cell_type": "code",
   "execution_count": null,
   "metadata": {},
   "outputs": [],
   "source": []
  },
  {
   "cell_type": "code",
   "execution_count": null,
   "metadata": {},
   "outputs": [],
   "source": []
  },
  {
   "cell_type": "code",
   "execution_count": null,
   "metadata": {},
   "outputs": [],
   "source": []
  },
  {
   "cell_type": "code",
   "execution_count": null,
   "metadata": {},
   "outputs": [],
   "source": []
  },
  {
   "cell_type": "code",
   "execution_count": null,
   "metadata": {},
   "outputs": [],
   "source": []
  },
  {
   "cell_type": "code",
   "execution_count": null,
   "metadata": {},
   "outputs": [],
   "source": []
  },
  {
   "cell_type": "code",
   "execution_count": null,
   "metadata": {},
   "outputs": [],
   "source": []
  },
  {
   "cell_type": "code",
   "execution_count": null,
   "metadata": {},
   "outputs": [],
   "source": []
  },
  {
   "cell_type": "code",
   "execution_count": null,
   "metadata": {},
   "outputs": [],
   "source": []
  },
  {
   "cell_type": "code",
   "execution_count": null,
   "metadata": {},
   "outputs": [],
   "source": []
  },
  {
   "cell_type": "code",
   "execution_count": null,
   "metadata": {},
   "outputs": [],
   "source": []
  },
  {
   "cell_type": "code",
   "execution_count": null,
   "metadata": {},
   "outputs": [],
   "source": []
  },
  {
   "cell_type": "code",
   "execution_count": null,
   "metadata": {},
   "outputs": [],
   "source": []
  },
  {
   "cell_type": "code",
   "execution_count": null,
   "metadata": {},
   "outputs": [],
   "source": []
  },
  {
   "cell_type": "code",
   "execution_count": null,
   "metadata": {},
   "outputs": [],
   "source": []
  },
  {
   "cell_type": "code",
   "execution_count": null,
   "metadata": {},
   "outputs": [],
   "source": []
  },
  {
   "cell_type": "code",
   "execution_count": null,
   "metadata": {},
   "outputs": [],
   "source": []
  },
  {
   "cell_type": "code",
   "execution_count": null,
   "metadata": {},
   "outputs": [],
   "source": []
  },
  {
   "cell_type": "code",
   "execution_count": null,
   "metadata": {},
   "outputs": [],
   "source": []
  },
  {
   "cell_type": "code",
   "execution_count": null,
   "metadata": {},
   "outputs": [],
   "source": []
  },
  {
   "cell_type": "code",
   "execution_count": null,
   "metadata": {},
   "outputs": [],
   "source": []
  },
  {
   "cell_type": "code",
   "execution_count": null,
   "metadata": {},
   "outputs": [],
   "source": []
  },
  {
   "cell_type": "code",
   "execution_count": null,
   "metadata": {},
   "outputs": [],
   "source": []
  },
  {
   "cell_type": "code",
   "execution_count": null,
   "metadata": {},
   "outputs": [],
   "source": []
  },
  {
   "cell_type": "code",
   "execution_count": null,
   "metadata": {},
   "outputs": [],
   "source": []
  },
  {
   "cell_type": "code",
   "execution_count": null,
   "metadata": {},
   "outputs": [],
   "source": []
  },
  {
   "cell_type": "code",
   "execution_count": null,
   "metadata": {},
   "outputs": [],
   "source": []
  },
  {
   "cell_type": "code",
   "execution_count": null,
   "metadata": {},
   "outputs": [],
   "source": []
  },
  {
   "cell_type": "code",
   "execution_count": null,
   "metadata": {},
   "outputs": [],
   "source": []
  }
 ],
 "metadata": {
  "kernelspec": {
   "display_name": "Python 3",
   "language": "python",
   "name": "python3"
  },
  "language_info": {
   "codemirror_mode": {
    "name": "ipython",
    "version": 3
   },
   "file_extension": ".py",
   "mimetype": "text/x-python",
   "name": "python",
   "nbconvert_exporter": "python",
   "pygments_lexer": "ipython3",
   "version": "3.8.5"
  }
 },
 "nbformat": 4,
 "nbformat_minor": 4
}
